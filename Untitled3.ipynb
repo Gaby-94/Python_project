{
 "cells": [
  {
   "cell_type": "code",
   "execution_count": 1,
   "id": "04bca485",
   "metadata": {},
   "outputs": [
    {
     "name": "stdout",
     "output_type": "stream",
     "text": [
      "debut iteration 0\n",
      "bonjour\n",
      "debut iteration 1\n",
      "bonjour\n",
      "debut iteration 2\n",
      "bonjour\n",
      "fin iteration 2\n",
      "debut iteration 3\n",
      "bonjour\n",
      "fin iteration 3\n",
      "apres la boucle\n"
     ]
    }
   ],
   "source": [
    "for i in range(4):\n",
    "    print(\"debut iteration\", i)\n",
    "    print(\"bonjour\")\n",
    "    if i < 2:\n",
    "        continue\n",
    "    print(\"fin iteration\", i)\n",
    "print(\"apres la boucle\")"
   ]
  },
  {
   "cell_type": "code",
   "execution_count": 2,
   "id": "07492fe5",
   "metadata": {},
   "outputs": [
    {
     "name": "stdout",
     "output_type": "stream",
     "text": [
      "2 est un nombre premier\n",
      "3 est un nombre premier\n",
      "4 egale 2 * 2.0\n",
      "5 est un nombre premier\n",
      "6 egale 2 * 3.0\n",
      "7 est un nombre premier\n"
     ]
    }
   ],
   "source": [
    "for n in range(2, 8):\n",
    "    for x in range(2, n):\n",
    "        if n % x == 0:\n",
    "            print(n, \"egale\", x, \"*\", n/x)\n",
    "            break\n",
    "    else:\n",
    "        print(n, \"est un nombre premier\")"
   ]
  },
  {
   "cell_type": "code",
   "execution_count": 3,
   "id": "962cbe0d",
   "metadata": {},
   "outputs": [],
   "source": [
    "def test():\n",
    "     return 3, 4"
   ]
  },
  {
   "cell_type": "code",
   "execution_count": 4,
   "id": "eed74663",
   "metadata": {},
   "outputs": [],
   "source": [
    "a = test()"
   ]
  },
  {
   "cell_type": "code",
   "execution_count": 5,
   "id": "d9214e65",
   "metadata": {},
   "outputs": [
    {
     "name": "stdout",
     "output_type": "stream",
     "text": [
      "('voiture', 4)\n",
      "('vélo', 2)\n",
      "('tricycle', 3)\n"
     ]
    }
   ],
   "source": [
    "nombre_de_roues = {\"voiture\": 4, \"vélo\": 2, \"tricycle\": 3}\n",
    "\n",
    "for i in nombre_de_roues.items():\n",
    "    print(i)"
   ]
  },
  {
   "cell_type": "code",
   "execution_count": 6,
   "id": "9a3670c7",
   "metadata": {},
   "outputs": [
    {
     "name": "stdout",
     "output_type": "stream",
     "text": [
      "l'élément de clé voiture vaut 4\n",
      "l'élément de clé vélo vaut 2\n",
      "l'élément de clé tricycle vaut 3\n"
     ]
    }
   ],
   "source": [
    "for cle, valeur in nombre_de_roues.items():\n",
    "        print(\"l'élément de clé\", cle, \"vaut\", valeur)"
   ]
  },
  {
   "cell_type": "code",
   "execution_count": null,
   "id": "f1347750",
   "metadata": {},
   "outputs": [],
   "source": []
  }
 ],
 "metadata": {
  "kernelspec": {
   "display_name": "Python 3",
   "language": "python",
   "name": "python3"
  },
  "language_info": {
   "codemirror_mode": {
    "name": "ipython",
    "version": 3
   },
   "file_extension": ".py",
   "mimetype": "text/x-python",
   "name": "python",
   "nbconvert_exporter": "python",
   "pygments_lexer": "ipython3",
   "version": "3.8.8"
  }
 },
 "nbformat": 4,
 "nbformat_minor": 5
}
